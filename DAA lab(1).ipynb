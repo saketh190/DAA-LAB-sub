{
 "cells": [
  {
   "cell_type": "code",
   "execution_count": 134,
   "id": "5399ff76",
   "metadata": {},
   "outputs": [
    {
     "name": "stdout",
     "output_type": "stream",
     "text": [
      "17\n",
      "5\n",
      "2\n"
     ]
    }
   ],
   "source": [
    "#LAB-1\n",
    "#Leader Array\n",
    "a=[16,17,4,3,5,2]\n",
    "\n",
    "n=len(a)\n",
    "max=a[-1]\n",
    "for i in range(0,n-1):\n",
    "    for j in range(i+1,n-1):\n",
    "        if a[i]<a[j]:\n",
    "            print(a[j])\n",
    "        else:\n",
    "            break\n",
    "        \n",
    "        \n",
    "print(max)"
   ]
  },
  {
   "cell_type": "code",
   "execution_count": 9,
   "id": "83945f6f",
   "metadata": {},
   "outputs": [
    {
     "name": "stdout",
     "output_type": "stream",
     "text": [
      "Zigzag ordered array: [1, 3, 2, 6, 4, 8, 7]\n"
     ]
    }
   ],
   "source": [
    "#Sorting Array\n",
    "def zigzag_sort(a):\n",
    "    n = len(a)\n",
    "\n",
    "    # Sort the input list in ascending order\n",
    "    a.sort()\n",
    "\n",
    "    # Swap adjacent elements starting from index 1\n",
    "    for i in range(1, n - 1, 2):\n",
    "        a[i], a[i + 1] = a[i + 1], a[i]\n",
    "\n",
    "a = [4, 3, 7, 8, 6, 2, 1]\n",
    "zigzag_sort(a)\n",
    "print(\"Zigzag ordered array:\", a)\n"
   ]
  },
  {
   "cell_type": "code",
   "execution_count": 1,
   "id": "72c1d840",
   "metadata": {},
   "outputs": [
    {
     "name": "stdout",
     "output_type": "stream",
     "text": [
      "12 9 3\n"
     ]
    }
   ],
   "source": [
    "#LAB-2\n",
    "#Triplet and their Sum\n",
    "a=[12,3,4,1,6,9]\n",
    "sum=24\n",
    "n=len(a)\n",
    "for i in range(n-2):\n",
    "    j=n-1\n",
    "    k=i+1\n",
    "    if(a[i]+a[j]+a[k]==sum):\n",
    "        print(a[i],a[j],a[k])\n",
    "    "
   ]
  },
  {
   "cell_type": "code",
   "execution_count": 2,
   "id": "40d72e17",
   "metadata": {},
   "outputs": [
    {
     "name": "stdout",
     "output_type": "stream",
     "text": [
      "[0, 0, 0, 1, 1, 1, 2, 2, 2]\n"
     ]
    }
   ],
   "source": [
    "#Sorting an Array\n",
    "a=[0,0,1,2,0,1,2,2,1]\n",
    "n=len(a)\n",
    "for i in range(n):\n",
    "    for j in range(i+1,n):\n",
    "        if a[i]<=a[j]:\n",
    "            temp=a[i]\n",
    "            a[i]=a[j]\n",
    "            a[j]=temp\n",
    "a.reverse()\n",
    "print(a)"
   ]
  },
  {
   "cell_type": "code",
   "execution_count": 10,
   "id": "e8de94ec",
   "metadata": {},
   "outputs": [
    {
     "name": "stdout",
     "output_type": "stream",
     "text": [
      "[3, 2, 7, 5]\n"
     ]
    }
   ],
   "source": [
    "#LAB-3\n",
    "#Removing Duplicate Values\n",
    "a = [3, 2, 7, 3, 5, 2]\n",
    "b = []\n",
    "\n",
    "for i in a:\n",
    "    if i not in b:\n",
    "        b.append(i)\n",
    "\n",
    "print(b)\n"
   ]
  },
  {
   "cell_type": "code",
   "execution_count": 2,
   "id": "21104dd4",
   "metadata": {},
   "outputs": [
    {
     "name": "stdout",
     "output_type": "stream",
     "text": [
      "to check if a linked list has a loop True\n"
     ]
    }
   ],
   "source": [
    "#To find whether the linked list has a loop or NOT\n",
    "class Node:\n",
    "    def __init__(self, value):\n",
    "        self.value = value\n",
    "        self.next = None\n",
    "\n",
    "def find_loop(head):\n",
    "    if head is None or head.next is None:\n",
    "        return False\n",
    "\n",
    "    slow = head\n",
    "    fast = head.next\n",
    "\n",
    "    while fast is not None and fast.next is not None:\n",
    "        if slow == fast:\n",
    "            return True\n",
    "        slow = slow.next\n",
    "        fast = fast.next.next\n",
    "\n",
    "    return False\n",
    "\n",
    "\n",
    "node1 = Node(1)\n",
    "node2 = Node(2)\n",
    "node3 = Node(3)\n",
    "node4 = Node(4)\n",
    "\n",
    "node1.next = node2\n",
    "node2.next = node3\n",
    "node3.next = node4\n",
    "node4.next = node2  \n",
    "\n",
    "print(\"to check if a linked list has a loop\", find_loop(node1))\n"
   ]
  },
  {
   "cell_type": "code",
   "execution_count": 13,
   "id": "2d9f94d1",
   "metadata": {},
   "outputs": [
    {
     "name": "stdout",
     "output_type": "stream",
     "text": [
      "Sorted array: [1, 2, 4, 5, 7, 9]\n"
     ]
    }
   ],
   "source": [
    "#Time Complexity: N log N\n",
    "def n_log_n(arr):\n",
    "    sorted_arr = sorted(arr)\n",
    "    return sorted_arr\n",
    "arr = [4, 2, 7, 1, 9, 5]\n",
    "print(\"Sorted array:\", n_log_n(arr))\n"
   ]
  },
  {
   "cell_type": "code",
   "execution_count": 7,
   "id": "75fc5f61",
   "metadata": {},
   "outputs": [
    {
     "name": "stdout",
     "output_type": "stream",
     "text": [
      "Maximum sum of an arr: 7\n"
     ]
    }
   ],
   "source": [
    "#Maximum Sum\n",
    "def max_sum(arr):\n",
    "    if not arr:\n",
    "        return 0\n",
    "\n",
    "    max_sum = current_sum = arr[0]\n",
    "\n",
    "    for num in arr[1:]:\n",
    "        current_sum = max(num, current_sum + num)\n",
    "        max_sum = max(max_sum, current_sum)\n",
    "\n",
    "    return max_sum\n",
    "\n",
    "arr = [1, -3, 4, -2, -1, 6]\n",
    "print(\"Maximum sum of an arr:\",max_sum(arr) )\n"
   ]
  },
  {
   "cell_type": "code",
   "execution_count": 11,
   "id": "6b9e3114",
   "metadata": {},
   "outputs": [
    {
     "name": "stdout",
     "output_type": "stream",
     "text": [
      "[[0 1 2]\n",
      " [3 4 5]\n",
      " [6 7 8]]\n",
      "[[2 1 0]\n",
      " [3 4 5]\n",
      " [8 7 6]]\n"
     ]
    }
   ],
   "source": [
    "#LAB-4\n",
    "#Diagonal Interchange\n",
    "import numpy as np\n",
    "\n",
    "\n",
    "values = [0, 1, 2, 3,4, 5, 6, 7, 8]\n",
    "\n",
    "\n",
    "matrix = np.array(values).reshape(3, 3)\n",
    "\n",
    "print(matrix)\n",
    "for i in range(3):\n",
    "    for j in range(3):\n",
    "        matrix[0][0],matrix[0][2]=matrix[0][2],matrix[0][0]\n",
    "        matrix[2][0],matrix[2][2]=matrix[2][2],matrix[2][0]\n",
    "print(matrix)"
   ]
  },
  {
   "cell_type": "code",
   "execution_count": 14,
   "id": "e5bdc723",
   "metadata": {},
   "outputs": [
    {
     "name": "stdout",
     "output_type": "stream",
     "text": [
      "find the element index: [4]\n"
     ]
    }
   ],
   "source": [
    "#Index Finder\n",
    "def index(arr, num):\n",
    "    indices = []\n",
    "    for i in range(len(arr)):\n",
    "        if arr[i] == num:\n",
    "            indices.append(i)\n",
    "    return indices\n",
    "\n",
    "arr= [ 2, 7, 3, 9, 4, 5]\n",
    "num= 4\n",
    "print(\"find the element index:\",index(arr, num))"
   ]
  },
  {
   "cell_type": "code",
   "execution_count": 5,
   "id": "cf388df0",
   "metadata": {},
   "outputs": [
    {
     "name": "stdout",
     "output_type": "stream",
     "text": [
      "Row index with the most ones: 1\n"
     ]
    }
   ],
   "source": [
    "#LAB-5\n",
    "#ROWS With Most No of One's\n",
    "def with_most_ones(matrix):\n",
    "    max_ones = 0\n",
    "    row_index = -1\n",
    "\n",
    "    for i, row in enumerate(matrix):\n",
    "        count_ones = row.count(1)\n",
    "        if count_ones > max_ones:\n",
    "            max_ones = count_ones\n",
    "            row_index = i\n",
    "\n",
    "    return row_index\n",
    "\n",
    "\n",
    "matrix = [\n",
    "    [1, 0, 1, 1],\n",
    "    [1, 1, 1, 1],\n",
    "    [0, 0, 1, 1],\n",
    "    [1, 0, 0, 1]\n",
    "]\n",
    "\n",
    "\n",
    "print(\"Row index with the most ones:\",with_most_ones(matrix) )\n"
   ]
  },
  {
   "cell_type": "code",
   "execution_count": 6,
   "id": "7e01bc75",
   "metadata": {},
   "outputs": [
    {
     "name": "stdout",
     "output_type": "stream",
     "text": [
      "Sum of the middle row: 15\n",
      "Sum of the middle column: 15\n"
     ]
    }
   ],
   "source": [
    "#Middle Row and Column Sum\n",
    "def row_column_sum(matrix):\n",
    "    n = len(matrix)\n",
    "    middle = n // 2\n",
    "    row_sum = sum(matrix[middle])\n",
    "    col_sum = sum(row[middle] for row in matrix)\n",
    "\n",
    "    return row_sum, col_sum\n",
    "\n",
    "\n",
    "matrix = [\n",
    "    [1, 2, 3],\n",
    "    [4, 5, 6],\n",
    "    [7, 8, 9]\n",
    "]\n",
    "\n",
    "row_sum, col_sum = row_column_sum(matrix)\n",
    "print(\"Sum of the middle row:\", row_sum)\n",
    "print(\"Sum of the middle column:\", col_sum)\n"
   ]
  },
  {
   "cell_type": "code",
   "execution_count": 24,
   "id": "5f0dfd9d",
   "metadata": {},
   "outputs": [
    {
     "name": "stdout",
     "output_type": "stream",
     "text": [
      "[[7 6 5]\n",
      " [1 2 3]\n",
      " [8 4 9]]\n",
      "[[1 2 3]\n",
      " [4 5 6]\n",
      " [7 8 9]]\n",
      "[[0 2 3]\n",
      " [4 5 6]\n",
      " [7 8 9]]\n",
      "[[0 2 3]\n",
      " [4 0 6]\n",
      " [7 8 9]]\n",
      "[[0 2 3]\n",
      " [4 0 6]\n",
      " [7 8 0]]\n",
      "[[0 2 0]\n",
      " [4 0 6]\n",
      " [7 8 0]]\n",
      "[[0 2 0]\n",
      " [4 0 6]\n",
      " [0 8 0]]\n"
     ]
    }
   ],
   "source": [
    "#LAB-6\n",
    "#sort the  given matrix and replace diagnols with zero\n",
    "import numpy as np\n",
    "\n",
    "\n",
    "values =[7,6,5,1,2,3,8,4,9]\n",
    "\n",
    "\n",
    "matrix = np.array(values).reshape(3, 3)\n",
    "print(matrix)\n",
    "for i in range(len(values)-1):\n",
    "    for j in range(i+1,len(values)):\n",
    "        if values[i]>values[j]:\n",
    "            temp=values[i]\n",
    "            values[i],values[j]=values[j],values[i]\n",
    "matrix = np.array(values).reshape(3, 3)\n",
    "print(matrix)\n",
    "            \n",
    "for i in range(4):\n",
    "    for j in range(4):\n",
    "        if(i==0 and j==0):\n",
    "            matrix[i][j]=0\n",
    "            print(matrix)\n",
    "for i in range(4):\n",
    "    for j in range(4):\n",
    "        if(i==1 and j==1):\n",
    "            matrix[i][j]=0\n",
    "            print(matrix)\n",
    "for i in range(4):\n",
    "    for j in range(4):\n",
    "        if(i==2 and j==2):\n",
    "            matrix[i][j]=0\n",
    "            print(matrix)\n",
    "for i in range(4):\n",
    "    for j in range(4):\n",
    "        if(i==0 and j==2):\n",
    "            matrix[i][j]=0\n",
    "            print(matrix)\n",
    "for i in range(4):\n",
    "    for j in range(4):\n",
    "        if(i==2 and j==0):\n",
    "            matrix[i][j]=0\n",
    "            print(matrix)\n",
    "\n",
    "\n"
   ]
  },
  {
   "cell_type": "code",
   "execution_count": 15,
   "id": "793b18cd",
   "metadata": {},
   "outputs": [
    {
     "name": "stdout",
     "output_type": "stream",
     "text": [
      "15\n"
     ]
    }
   ],
   "source": [
    "#Integer Multiplication without Operators\n",
    "def multiply(x, y):\n",
    "    if y == 0:\n",
    "        return 0\n",
    "    if y > 0:\n",
    "        return x + multiply(x, y - 1)\n",
    "    if y < 0:\n",
    "        return -multiply(x, -y)\n",
    "    \n",
    "\n",
    "\n",
    "result = multiply(5, 3)\n",
    "print(result) "
   ]
  },
  {
   "cell_type": "code",
   "execution_count": 16,
   "id": "6b60f7f7",
   "metadata": {},
   "outputs": [
    {
     "name": "stdout",
     "output_type": "stream",
     "text": [
      "Enter the value you want to search for: 8\n",
      "Searching element is found.\n"
     ]
    }
   ],
   "source": [
    "#LAB-7\n",
    "#Binary Search Tree Node Search\n",
    "class Node:\n",
    "    def __init__(self, value):\n",
    "        self.value = value\n",
    "        self.left = None\n",
    "        self.right = None\n",
    "\n",
    "def search_tree(node, value):\n",
    "    if node is None:\n",
    "        return False\n",
    "    if node.value == value:\n",
    "        return True\n",
    "    return search_tree(node.left, value) or search_tree(node.right, value)\n",
    "\n",
    "root = Node(10)\n",
    "root.left = Node(8)\n",
    "root.right = Node(20)\n",
    "root.left.left = Node(7)\n",
    "root.left.right = Node(9)\n",
    "root.right.right = Node(21)\n",
    "root.right.left = Node(15)\n",
    "\n",
    "a = int(input(\"Enter the value you want to search for: \"))\n",
    "\n",
    "if search_tree(root, a):\n",
    "    print(\"Searching element is found.\")\n",
    "else:\n",
    "    print(\"Searching element is not found.\")\n"
   ]
  },
  {
   "cell_type": "code",
   "execution_count": 3,
   "id": "aa723265",
   "metadata": {},
   "outputs": [
    {
     "name": "stdout",
     "output_type": "stream",
     "text": [
      "10\n",
      "8\n",
      "7\n",
      "9\n",
      "20\n",
      "15\n",
      "21\n",
      "Sum of leaf nodes: 52\n"
     ]
    }
   ],
   "source": [
    "#Leaf Node Sum in a Tree\n",
    "class Node:\n",
    "    def __init__(self, value):\n",
    "        self.value = value\n",
    "        self.left = None\n",
    "        self.right = None\n",
    "def print_tree(node):\n",
    "    if node is not None:\n",
    "        print(node.value)\n",
    "        print_tree(node.left)\n",
    "        print_tree(node.right)\n",
    "def sum_leaf_nodes(node):\n",
    "    if node is None:\n",
    "        return 0\n",
    "    if node.left is None and node.right is None:\n",
    "        return node.value\n",
    "    return sum_leaf_nodes(node.left) + sum_leaf_nodes(node.right)\n",
    "\n",
    "root = Node(10)\n",
    "root.left = Node(8)\n",
    "root.right = Node(20)\n",
    "root.left.left = Node(7)\n",
    "root.left.right = Node(9)\n",
    "root.right.right = Node(21)\n",
    "root.right.left = Node(15)\n",
    "print_tree(root)\n",
    "leaf_sum = sum_leaf_nodes(root)\n",
    "print(\"Sum of leaf nodes:\", leaf_sum)\n"
   ]
  },
  {
   "cell_type": "code",
   "execution_count": 22,
   "id": "9049a65a",
   "metadata": {},
   "outputs": [
    {
     "name": "stdout",
     "output_type": "stream",
     "text": [
      "Spiral Order Traversal:\n",
      "1 3 2 4 5 6 7 15 14 13 12 11 10 9 8 "
     ]
    }
   ],
   "source": [
    "#Spinal (Zig-Zag) Order Tree Traversa\n",
    "class TreeNode:\n",
    "    def __init__(self, value):\n",
    "        self.value = value\n",
    "        self.left = None\n",
    "        self.right = None\n",
    "\n",
    "def spiral_traversal(root):\n",
    "    if not root:\n",
    "        return\n",
    "\n",
    "    \n",
    "    current_level = []\n",
    "    next_level = []\n",
    "\n",
    "    \n",
    "    left_to_right = True\n",
    "\n",
    "    current_level.append(root)\n",
    "\n",
    "    while current_level:\n",
    "        node = current_level.pop()\n",
    "        print(node.value, end=\" \")\n",
    "\n",
    "        if left_to_right:\n",
    "            if node.left:\n",
    "                next_level.append(node.left)\n",
    "            if node.right:\n",
    "                next_level.append(node.right)\n",
    "        else:\n",
    "            if node.right:\n",
    "                next_level.append(node.right)\n",
    "            if node.left:\n",
    "                next_level.append(node.left)\n",
    "\n",
    "        if not current_level:\n",
    "            current_level, next_level = next_level, current_level\n",
    "            left_to_right = not left_to_right\n",
    "\n",
    "\n",
    "root = TreeNode(1)\n",
    "root.left = TreeNode(2)\n",
    "root.right = TreeNode(3)\n",
    "root.left.left = TreeNode(4)\n",
    "root.left.left.left=TreeNode(8)\n",
    "root.left.left.right=TreeNode(9)\n",
    "root.left.right = TreeNode(5)\n",
    "root.left.right.right = TreeNode(11)\n",
    "root.left.right.left = TreeNode(10)\n",
    "root.right.right = TreeNode(7)\n",
    "root.right.right.right = TreeNode(15)\n",
    "root.right.right.left = TreeNode(14)\n",
    "root.right.left=TreeNode(6)\n",
    "root.right.left.left=TreeNode(12)\n",
    "root.right.left.right=TreeNode(13)\n",
    "\n",
    "\n",
    "\n",
    "\n",
    "print(\"Spiral Order Traversal:\")\n",
    "spiral_traversal(root)\n"
   ]
  },
  {
   "cell_type": "code",
   "execution_count": null,
   "id": "52639c98",
   "metadata": {},
   "outputs": [],
   "source": []
  },
  {
   "cell_type": "code",
   "execution_count": null,
   "id": "16a05a78",
   "metadata": {},
   "outputs": [],
   "source": []
  },
  {
   "cell_type": "code",
   "execution_count": null,
   "id": "4912b9da",
   "metadata": {},
   "outputs": [],
   "source": []
  },
  {
   "cell_type": "code",
   "execution_count": null,
   "id": "c0b5e923",
   "metadata": {},
   "outputs": [],
   "source": []
  },
  {
   "cell_type": "code",
   "execution_count": null,
   "id": "7a97d3be",
   "metadata": {},
   "outputs": [],
   "source": []
  },
  {
   "cell_type": "code",
   "execution_count": null,
   "id": "f3d42346",
   "metadata": {},
   "outputs": [],
   "source": []
  },
  {
   "cell_type": "code",
   "execution_count": null,
   "id": "720c5342",
   "metadata": {},
   "outputs": [],
   "source": []
  },
  {
   "cell_type": "code",
   "execution_count": null,
   "id": "1081009d",
   "metadata": {},
   "outputs": [],
   "source": []
  },
  {
   "cell_type": "code",
   "execution_count": null,
   "id": "6affb70a",
   "metadata": {},
   "outputs": [],
   "source": []
  }
 ],
 "metadata": {
  "kernelspec": {
   "display_name": "Python 3 (ipykernel)",
   "language": "python",
   "name": "python3"
  },
  "language_info": {
   "codemirror_mode": {
    "name": "ipython",
    "version": 3
   },
   "file_extension": ".py",
   "mimetype": "text/x-python",
   "name": "python",
   "nbconvert_exporter": "python",
   "pygments_lexer": "ipython3",
   "version": "3.9.12"
  }
 },
 "nbformat": 4,
 "nbformat_minor": 5
}
